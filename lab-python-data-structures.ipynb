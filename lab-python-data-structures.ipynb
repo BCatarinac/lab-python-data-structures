{
 "cells": [
  {
   "cell_type": "markdown",
   "metadata": {
    "tags": []
   },
   "source": [
    "# Lab | Data Structures "
   ]
  },
  {
   "cell_type": "markdown",
   "metadata": {},
   "source": [
    "## Exercise: Managing Customer Orders\n",
    "\n",
    "As part of a business venture, you are starting an online store that sells various products. To ensure smooth operations, you need to develop a program that manages customer orders and inventory.\n",
    "\n",
    "Follow the steps below to complete the exercise:\n",
    "\n",
    "1. Define a list called `products` that contains the following items: \"t-shirt\", \"mug\", \"hat\", \"book\", \"keychain\".\n",
    "\n",
    "2. Create an empty dictionary called `inventory`.\n",
    "\n",
    "3. Ask the user to input the quantity of each product available in the inventory. Use the product names from the `products` list as keys in the `inventory` dictionary and assign the respective quantities as values.\n",
    "\n",
    "4. Create an empty set called `customer_orders`.\n",
    "\n",
    "5. Ask the user to input the name of three products that a customer wants to order (from those in the products list, meaning three products out of \"t-shirt\", \"mug\", \"hat\", \"book\" or \"keychain\". Add each product name to the `customer_orders` set.\n",
    "\n",
    "6. Print the products in the `customer_orders` set.\n",
    "\n",
    "7. Calculate the following order statistics:\n",
    "   - Total Products Ordered: The total number of products in the `customer_orders` set.\n",
    "   - Percentage of Products Ordered: The percentage of products ordered compared to the total available products.\n",
    "   \n",
    "   Store these statistics in a tuple called `order_status`.\n",
    "\n",
    "8. Print the order statistics using the following format:\n",
    "   ```\n",
    "   Order Statistics:\n",
    "   Total Products Ordered: <total_products_ordered>\n",
    "   Percentage of Products Ordered: <percentage_ordered>% \n",
    "   ```\n",
    "\n",
    "9. Update the inventory by subtracting 1 from the quantity of each product. Modify the `inventory` dictionary accordingly.\n",
    "\n",
    "10. Print the updated inventory, displaying the quantity of each product on separate lines.\n",
    "\n",
    "Solve the exercise by implementing the steps using the Python concepts of lists, dictionaries, sets, and basic input/output operations. "
   ]
  },
  {
   "cell_type": "code",
   "execution_count": 1,
   "metadata": {},
   "outputs": [
    {
     "name": "stdout",
     "output_type": "stream",
     "text": [
      "Enter the quantity of t-shirt available: 4\n",
      "Enter the quantity of mug available: 3\n",
      "Enter the quantity of hat available: 5\n",
      "Enter the quantity of book available: 6\n",
      "Enter the quantity of keychain available: 2\n",
      "Enter the name of the product the customer wants to order: book\n",
      "Enter the name of the product the customer wants to order: keychain\n",
      "Enter the name of the product the customer wants to order: mugg\n",
      "Product not available. Please choose another product.\n",
      "Customer Orders: {'book', 'keychain'}\n",
      "Order Statistics:\n",
      "Total Products Ordered: 2\n",
      "Percentage of Products Ordered: 40.00%\n",
      "Updated Inventory:\n",
      "t-shirt: 4\n",
      "mug: 3\n",
      "hat: 5\n",
      "book: 5\n",
      "keychain: 1\n"
     ]
    }
   ],
   "source": [
    "# 1\n",
    "products = [\"t-shirt\", \"mug\", \"hat\", \"book\", \"keychain\"]\n",
    "\n",
    "# 2\n",
    "inventory = {}\n",
    "# 3\n",
    "for product in products:\n",
    "    quantity = int(input(f\"Enter the quantity of {product} available: \"))\n",
    "    inventory[product] = quantity\n",
    "# 4    \n",
    "customer_orders = set()\n",
    "\n",
    "#5\n",
    "for _ in range(3):\n",
    "    product_order = input(\"Enter the name of the product the customer wants to order: \")\n",
    "    if product_order in products:\n",
    "        customer_orders.add(product_order)\n",
    "    else:\n",
    "        print(\"Product not available. Please choose another product.\")\n",
    "        \n",
    "#6\n",
    "print(\"Customer Orders:\", customer_orders)\n",
    "\n",
    "\n",
    "total_products_ordered = len(customer_orders)\n",
    "percentage_of_products_ordered = (total_products_ordered / len(products)) * 100\n",
    "order_status = (total_products_ordered, percentage_of_products_ordered)\n",
    "\n",
    "#7\n",
    "print(f\"Order Statistics:\\nTotal Products Ordered: {order_status[0]}\\nPercentage of Products Ordered: {order_status[1]:.2f}%\")\n",
    "\n",
    "#8\n",
    "for product in customer_orders:\n",
    "    if inventory[product] > 0:\n",
    "        inventory[product] -= 1\n",
    "    else:\n",
    "        print(f\"Insufficient quantity for {product}\")\n",
    "        \n",
    "\n",
    "print(\"Updated Inventory:\")\n",
    "for product, quantity in inventory.items():\n",
    "    print(f\"{product}: {quantity}\")\n"
   ]
  },
  {
   "cell_type": "code",
   "execution_count": null,
   "metadata": {},
   "outputs": [],
   "source": []
  }
 ],
 "metadata": {
  "kernelspec": {
   "display_name": "Python 3 (ipykernel)",
   "language": "python",
   "name": "python3"
  },
  "language_info": {
   "codemirror_mode": {
    "name": "ipython",
    "version": 3
   },
   "file_extension": ".py",
   "mimetype": "text/x-python",
   "name": "python",
   "nbconvert_exporter": "python",
   "pygments_lexer": "ipython3",
   "version": "3.10.9"
  }
 },
 "nbformat": 4,
 "nbformat_minor": 4
}
